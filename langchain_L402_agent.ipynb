{
 "cells": [
  {
   "cell_type": "markdown",
   "id": "f713e7dd",
   "metadata": {},
   "source": [
    "# LangChain402: An L402-aware APIChain for LangChain Agents"
   ]
  },
  {
   "cell_type": "markdown",
   "id": "dd225454",
   "metadata": {},
   "source": [
    "In this notebook, the L402 APIChain wrapper for LangChain agents. This enables LangChain agents to hit APIs that are gated behind an L402 reverse proxy. The [L402 protocol](https://docs.lightning.engineering/the-lightning-network/l402) is a protocol that finally leverages the forgotten `HTTP 402 Payment Required` error code to create a programmatic way to pay for content on on the web. The content may just be normal authentication, a blog post, or even a rich API that uses LN micro payments to implement a metered API. The L402 protocol enables AI Agents to _pay_ for API-based resources using the internet's native currency. "
   ]
  },
  {
   "cell_type": "markdown",
   "id": "e028be83",
   "metadata": {},
   "source": [
    "We'll start by importing a class we can use to access lnd, and also the API chain wrapper: "
   ]
  },
  {
   "cell_type": "code",
   "execution_count": 1,
   "id": "25d6bf90",
   "metadata": {},
   "outputs": [],
   "source": [
    "from lightning import LndNode\n",
    "from L402 import L402APIChain\n",
    "\n",
    "from langchain_openai import OpenAI"
   ]
  },
  {
   "cell_type": "markdown",
   "id": "15af950d",
   "metadata": {},
   "source": [
    "In `langchain`, API chains work by consuming a description of an API, which is then passed along to a series of LLM chains to try to figure out how to call an API to answer a prompt/request. In this example, we'll create docs for a fake API running locally, which looks very similar to the popular OpenAI API structure: \n"
   ]
  },
  {
   "cell_type": "code",
   "execution_count": 13,
   "id": "957d48d3",
   "metadata": {},
   "outputs": [],
   "source": [
    "API_DOCS ='''BASE URL: http://localhost:8085\n",
    "\n",
    "API Documentation\n",
    "The API endpoint /v1/models HTTP endpoint can be used to fetch the set of supported models. The response is text, the list of models separated by a comma\n",
    "\n",
    "Request:\n",
    "There are no query params for the API\n",
    "\n",
    "Response:\n",
    "A JSON object of the set of supported models, which looks similar to:\n",
    "{\n",
    "  \"models\": [\n",
    "    {\n",
    "      \"id\": \"gpt9\",\n",
    "      \"name\": \"GPT-9\",\n",
    "      \"version\": \"1.0\"\n",
    "    },\n",
    "    {\n",
    "      \"id\": \"gpt10\",\n",
    "      \"name\": \"GPT-10\",\n",
    "      \"version\": \"1.0\"\n",
    "    },\n",
    "    {\n",
    "      \"id\": \"gptalphabeta\",\n",
    "      \"name\": \"GPT-Alpha-Beta\",\n",
    "      \"version\": \"1.0\"\n",
    "    }\n",
    "  ]\n",
    "}\n",
    "'''"
   ]
  },
  {
   "cell_type": "markdown",
   "id": "300dd818",
   "metadata": {},
   "source": [
    "We described the URL of the API, the endpoint available, and also gave it a few-shot example of what a response looks like. "
   ]
  },
  {
   "cell_type": "markdown",
   "id": "11105cc8",
   "metadata": {},
   "source": [
    "Next, we'll initialize the API chain wrapper, and also an agent that can use the L402 API Chain traverse the API. Note that the agent doesn't need to know about L402 explicitly, instead the negotiation will happen in the background"
   ]
  },
  {
   "cell_type": "code",
   "execution_count": 6,
   "id": "f519a455",
   "metadata": {},
   "outputs": [],
   "source": [
    "url = 'http://localhost:8085/v1'\n",
    "\n",
    "lnd_node = LndNode(\n",
    "    cert_path='~/gocode/src/github.com/lightningnetwork/lnd/test_lnd2/tls.cert',\n",
    "    macaroon_path='~/gocode/src/github.com/lightningnetwork/lnd/test_lnd2/data/chain/bitcoin/simnet/admin.macaroon',\n",
    "    host='localhost',\n",
    "    port=10018\n",
    ")\n",
    "\n",
    "llm = OpenAI(temperature=0)\n",
    "\n",
    "chain_new = L402APIChain.from_llm_and_api_docs(\n",
    "    llm, API_DOCS, lightning_node=lnd_node, verbose=True,\n",
    ")"
   ]
  },
  {
   "cell_type": "markdown",
   "id": "44f32887",
   "metadata": {},
   "source": [
    "First, we'll try to hit the url above using just normal `requests` to show that we need L402 awareness:"
   ]
  },
  {
   "cell_type": "code",
   "execution_count": 11,
   "id": "52066762",
   "metadata": {},
   "outputs": [
    {
     "name": "stdout",
     "output_type": "stream",
     "text": [
      "<Response [402]>\n",
      "{'Accept': '*/*', 'Accept-Encoding': 'gzip, deflate', 'Access-Control-Allow-Headers': 'Authorization, Grpc-Metadata-macaroon, WWW-Authenticate', 'Access-Control-Allow-Methods': 'GET, POST, OPTIONS', 'Access-Control-Allow-Origin': '*', 'Access-Control-Expose-Headers': 'WWW-Authenticate', 'Connection': 'keep-alive', 'Content-Type': 'text/plain; charset=utf-8', 'User-Agent': 'python-requests/2.30.0', 'Www-Authenticate': 'LSAT macaroon=\"AgEEbHNhdAJCAAD5dBUU9CqsQKbOM72ZikBtaQemr4Pe812w/qrHyKIoQEUkoNdaqgj/pUuJ97nPbEhHvLLIZnc79FZu00m1IXvgAAIac2VydmljZXM9Z3B0LTQtYWxsLXByb3h5OjAAAi1ncHQtNC1hbGwtcHJveHlfY2FwYWJpbGl0aWVzPWdwdDMtdHVyYm8sZ3B0LTQAAhZ2YWxpZF91bnRpbD0yMDIzLTA2LTAxAAImZ3B0LTQtYWxsLXByb3h5X3ZhbGlkX3VudGlsPTE3MTg3NjMzMTkAAAYg2LCG/XVLCOF9PPYKCweoGrzqDOKageDIUfktodXpKL8=\", invoice=\"lnsb1u1pjfz2avpp5l96p298592kypfkwxw7enzjqd45s0f40s000xhdsl64v0j9z9pqqdq8f3f5z4qcqzzsxqyz5vqsp5wmp7xry0svqv0h5xs27rd6ut50lk0xj3yeltaa2grk9cvpqx6trq9qyyssq7n68wh6swj5kc68y8v7c2s05zy28nts3na5s2w9gvzv6xcm43wgs7nqqn87pyhmz7nz8vdwdx83am5kd32mhrzkt7mw7zxmvtysrt2cqwq6h8a\"', 'X-Content-Type-Options': 'nosniff', 'Date': 'Tue, 20 Jun 2023 04:31:40 GMT', 'Content-Length': '17'}\n"
     ]
    }
   ],
   "source": [
    "import requests \n",
    "resp = requests.get(url)\n",
    "print(resp)\n",
    "print(resp.headers)"
   ]
  },
  {
   "cell_type": "markdown",
   "id": "41a469e1",
   "metadata": {},
   "source": [
    "Now we'll try it with the agent: "
   ]
  },
  {
   "cell_type": "code",
   "execution_count": 14,
   "id": "3018a887",
   "metadata": {},
   "outputs": [
    {
     "name": "stdout",
     "output_type": "stream",
     "text": [
      "\n",
      "\n",
      "\u001b[1m> Entering new  chain...\u001b[0m\n",
      "\u001b[32;1m\u001b[1;3m http://localhost:8085/v1/models\u001b[0m\n",
      "L402 error path=http://localhost:8085/v1/models, attempting to pay invoice and retry request...\n",
      "Paying invoice:  lnsb1u1pjfztqzpp5cta25amjvvrka0n9q6xu263k994ulhl9en8ez3qax4ufn7dxdt9sdq8f3f5z4qcqzzsxqyz5vqsp5ph0dp4kwt02g7qg7fwut3xnwexg6d4luct34m4stx90lhc4xx3es9qyyssq88ur2k9x6c9zpl40t4tnmd920sxnl59ts8p08z3gktw9sg2hxt08dr48v4a3fmufplavexp43uzgzfsmaelxkzuxgq5tu7jjg6elmrgqq2jugh\n",
      "Obtained preimage:  51ec6cd0c35651ad86af89f7d839a008f7bd751f346cc2db5786d69b4d5601d3\n",
      "Assembling final authorization header:  {'Authorization': 'LSAT AgEEbHNhdAJCAADC+qp3cmMHbr5lBo3FajYpa8/f5czPkUQdNXiZ+aZqy6XVq8NJXWavB1wPMhkAysyqO/SKTtsFQK/LDrSlf0fsAAIac2VydmljZXM9Z3B0LTQtYWxsLXByb3h5OjAAAi1ncHQtNC1hbGwtcHJveHlfY2FwYWJpbGl0aWVzPWdwdDMtdHVyYm8sZ3B0LTQAAhZ2YWxpZF91bnRpbD0yMDIzLTA2LTAxAAImZ3B0LTQtYWxsLXByb3h5X3ZhbGlkX3VudGlsPTE3MTg3NjMzMTkAAAYgk38yUftD8+DHAAgT966aT8wQ3jTbVgWeBgivn3STRP0=:51ec6cd0c35651ad86af89f7d839a008f7bd751f346cc2db5786d69b4d5601d3'}\n",
      "\u001b[33;1m\u001b[1;3m\n",
      "  \"models\": [\n",
      "    {\n",
      "      \"id\": \"gpt9\",\n",
      "      \"name\": \"GPT-9\",\n",
      "      \"version\": \"1.0\"\n",
      "    },\n",
      "    {\n",
      "      \"id\": \"gpt88\",\n",
      "      \"name\": \"GPT-88\",\n",
      "      \"version\": \"1.0\"\n",
      "    },\n",
      "    {\n",
      "      \"id\": \"gptgammaz\",\n",
      "      \"name\": \"GPT-Gammaz\",\n",
      "      \"version\": \"1.0\"\n",
      "    }\n",
      "  ]\n",
      "}\u001b[0m\n",
      "\n",
      "\u001b[1m> Finished chain.\u001b[0m\n",
      " There are 3 total models supported.\n",
      "\n",
      "\n",
      "\u001b[1m> Entering new  chain...\u001b[0m\n",
      "\u001b[32;1m\u001b[1;3m http://localhost:8085/v1/models\u001b[0m\n",
      "L402 error path=http://localhost:8085/v1/models, attempting to pay invoice and retry request...\n",
      "Paying invoice:  lnsb1u1pjfztq9pp5sher4f44jvh99kfxl4uvzffdve9yxftnlzd3gdm457ukl6pg8atsdq8f3f5z4qcqzzsxqyz5vqsp5a35mxrmg26lp8769f22f4sxv0n0evcqpfgyq7t0m0zu5ntmxcxaq9qyyssqdu9nayyuh9rfu3scxx7779t3j0l60hh0c5hr94a8hu7w44wyuc53pcq6kpyu6tuq7z8zsnrawlrh2h6rh9kjjnn72ltvpqhcpxurx5sqy00kce\n",
      "Obtained preimage:  763dceda2e7703dda1b42a2cc5d988f28e5b67aeb185c0ac55abf195f8f48fcf\n",
      "Assembling final authorization header:  {'Authorization': 'LSAT AgEEbHNhdAJCAACF8jqmtZMuUtkm/XjBJS1mSkMlc/ibFDd1p7lv6Cg/V6DAZywF3wFcE7qe8RQwpz5OfYB9HAqCj5rPD0oqakwxAAIac2VydmljZXM9Z3B0LTQtYWxsLXByb3h5OjAAAi1ncHQtNC1hbGwtcHJveHlfY2FwYWJpbGl0aWVzPWdwdDMtdHVyYm8sZ3B0LTQAAhZ2YWxpZF91bnRpbD0yMDIzLTA2LTAxAAImZ3B0LTQtYWxsLXByb3h5X3ZhbGlkX3VudGlsPTE3MTg3NjMzMTkAAAYga9/JBhraQHSAnRXCpknwaep97dsp+rb55JKmLoFT0Xg=:763dceda2e7703dda1b42a2cc5d988f28e5b67aeb185c0ac55abf195f8f48fcf'}\n",
      "\u001b[33;1m\u001b[1;3m\n",
      "  \"models\": [\n",
      "    {\n",
      "      \"id\": \"gpt9\",\n",
      "      \"name\": \"GPT-9\",\n",
      "      \"version\": \"1.0\"\n",
      "    },\n",
      "    {\n",
      "      \"id\": \"gpt88\",\n",
      "      \"name\": \"GPT-88\",\n",
      "      \"version\": \"1.0\"\n",
      "    },\n",
      "    {\n",
      "      \"id\": \"gptgammaz\",\n",
      "      \"name\": \"GPT-Gammaz\",\n",
      "      \"version\": \"1.0\"\n",
      "    }\n",
      "  ]\n",
      "}\u001b[0m\n",
      "\n",
      "\u001b[1m> Finished chain.\u001b[0m\n",
      " The API supports three models: GPT-9, GPT-88, and GPT-Gammaz.\n"
     ]
    }
   ],
   "source": [
    "output = chain_new.run('how many total models are supported?')\n",
    "print(output)\n",
    "\n",
    "output = chain_new.run('which models are supported?')\n",
    "print(output)"
   ]
  }
 ],
 "metadata": {
  "kernelspec": {
   "display_name": "Python 3 (ipykernel)",
   "language": "python",
   "name": "python3"
  },
  "language_info": {
   "codemirror_mode": {
    "name": "ipython",
    "version": 3
   },
   "file_extension": ".py",
   "mimetype": "text/x-python",
   "name": "python",
   "nbconvert_exporter": "python",
   "pygments_lexer": "ipython3",
   "version": "3.10.8"
  }
 },
 "nbformat": 4,
 "nbformat_minor": 5
}
